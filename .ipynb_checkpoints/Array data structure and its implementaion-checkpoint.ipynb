{
 "cells": [
  {
   "cell_type": "code",
   "execution_count": 16,
   "metadata": {},
   "outputs": [
    {
     "name": "stdout",
     "output_type": "stream",
     "text": [
      "array('i', [1, 2, 3, 4])\n",
      "1\n",
      "4\n",
      "4\n",
      "array('i', [1, 2, 4, 3, 4])\n"
     ]
    }
   ],
   "source": [
    "#Array :Array is the group of variables that have common name\n",
    "#Each item in grou[ is called an element of the array]. \n",
    "#Each element are distinguished from other by index \n",
    "#starting is index may be 0 or 1 depending upon the programming\n",
    "#language used.For matlab it is 1 whereas for Python,C it is 0. \n",
    "# An elts of array are store in contiguously in memory.\n",
    "# Array and list are different but have the same way of \n",
    "# storing data.\n",
    "#Array can store only one type of data type but\n",
    "# list can store any type of data\n",
    "#1-->Declaring the one-dimensional array:\n",
    "\n",
    "#--> array can be created after importing the array module \n",
    "# it can be imported in three ways \n",
    "# 1. without alias i.e import array\n",
    "# 2. with alias i.e import array as am\n",
    "# 3. using *\n",
    "import array \n",
    "a=array.array('i',[1,2,3,4]);#'i'is typecode for signed integer \n",
    "# and 'I' is unsigned interger for 'l'is long integer\n",
    "#1st array represnts\n",
    "#module 2nd array represents the array method.\n",
    "print(a)\n",
    "print(a[0])\n",
    "print(a[-1])\n",
    "print(len(a));# len() returns the length of array \n",
    "a.insert(2,4)\n",
    "print(a)"
   ]
  },
  {
   "cell_type": "code",
   "execution_count": 32,
   "metadata": {},
   "outputs": [
    {
     "name": "stdout",
     "output_type": "stream",
     "text": [
      "Poping the lst element 3.7\n",
      "jerlj 1.1\n",
      "None\n"
     ]
    },
    {
     "data": {
      "text/plain": [
       "array('d', [3.8])"
      ]
     },
     "execution_count": 32,
     "metadata": {},
     "output_type": "execute_result"
    }
   ],
   "source": [
    "import array as ay\n",
    "b=ay.array('d',[1.1,2.2,3.8,3.7])\n",
    "print(\"Poping the lst element\",b.pop())\n",
    "# pop is used to remove the value as well as return it \n",
    "# remove is used to remove value without returning it\n",
    "print(\"jerlj\",b.pop(0))# index is input \n",
    "print(b.remove(2.2))# input is elements i.e none object is \n",
    "# returned\n",
    "b[:]"
   ]
  },
  {
   "cell_type": "code",
   "execution_count": null,
   "metadata": {},
   "outputs": [],
   "source": [
    "# Common operation that are performed in 1-D array are:\n",
    "#  Creating array\n",
    "# Inserting array,traversing of array,merging of array\n",
    "# deletion of an element ,modification of any element\n"
   ]
  }
 ],
 "metadata": {
  "kernelspec": {
   "display_name": "Python 3",
   "language": "python",
   "name": "python3"
  },
  "language_info": {
   "codemirror_mode": {
    "name": "ipython",
    "version": 3
   },
   "file_extension": ".py",
   "mimetype": "text/x-python",
   "name": "python",
   "nbconvert_exporter": "python",
   "pygments_lexer": "ipython3",
   "version": "3.7.2"
  }
 },
 "nbformat": 4,
 "nbformat_minor": 2
}
