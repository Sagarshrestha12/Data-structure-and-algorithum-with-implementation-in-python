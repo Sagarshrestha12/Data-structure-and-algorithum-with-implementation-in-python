{
 "cells": [
  {
   "cell_type": "code",
   "execution_count": 5,
   "metadata": {},
   "outputs": [
    {
     "name": "stdout",
     "output_type": "stream",
     "text": [
      "[2, 46, 1, 4, 567, 44, 2, 45, 23, 4, 5, 3]\n",
      "[1, 2, 2, 3, 4, 4, 5, 23, 44, 45, 46, 567]\n"
     ]
    }
   ],
   "source": [
    "# selection sort\n",
    "# it is an inplace algorithum but not the stable algorithums \n",
    "# it is an algorithum of worst case of order of n^2 i.e it is\n",
    "# alogorithum of big oh of n\n",
    "\n",
    "x=[2,46,1,4,567,44,2,45,23,4,5,3];\n",
    "print(x)\n",
    "def selectionsort(x):\n",
    "    for i in range(0,len(x)-1):\n",
    "        k=i;\n",
    "        for l in range(i+1,len(x)):\n",
    "            if  x[k]>x[l]:\n",
    "                k=l\n",
    "        if k!=i:\n",
    "            t=x[i]\n",
    "            x[i]=x[k]\n",
    "            x[k]=t\n",
    "    return x;\n",
    "print(selectionsort(x))\n",
    "           \n",
    "        "
   ]
  },
  {
   "cell_type": "code",
   "execution_count": 17,
   "metadata": {},
   "outputs": [
    {
     "name": "stdout",
     "output_type": "stream",
     "text": [
      "Before the sorting number of list: [6, 56, 34, 64, 343, 34, 4, 4, 44, 46262, 67, 45, 5, 5, 6, 6]\n",
      "[6, 56, 34, 64, 343, 34, 4, 4, 44, 46262, 67, 45, 5, 5, 6, 6]\n",
      "[4, 4, 5, 5, 6, 6, 6, 34, 34, 44, 45, 56, 64, 67, 343, 46262]\n"
     ]
    }
   ],
   "source": [
    "# Bubble sort\n",
    "# it is algorithum of order of n^2,i.e it is an algorithum of big Oh of order of n^2\n",
    "y=[6,56,34,64,343,34,4,4,44,46262,67,45,5,5,6,6]\n",
    "print(\"Before the sorting number of list:\",y)\n",
    "print(y)\n",
    "def Bubblesort(x):\n",
    "    for i in range(0,len(x)):\n",
    "        for k in range(0,len(x)-1):\n",
    "            if x[k]>x[k+1]:\n",
    "                t=x[k];\n",
    "                x[k]=x[k+1]\n",
    "                x[k+1]=t\n",
    "Bubblesort(y)  \n",
    "print(y)\n",
    "# it is an algorithum of order of n^2"
   ]
  },
  {
   "cell_type": "code",
   "execution_count": 1,
   "metadata": {},
   "outputs": [
    {
     "name": "stdout",
     "output_type": "stream",
     "text": [
      "[4, 4, 5, 5, 6, 6, 6, 34, 34, 44, 45, 56, 64, 67, 343, 46262]\n"
     ]
    }
   ],
   "source": [
    "# insertion sort\n",
    "# it is an algorithum of order n^2 it is faster as compared to above algorithum for sorting purposes\n",
    "k=[6,56,34,64,343,34,4,4,44,46262,67,45,5,5,6,6]\n",
    "def insertionsort(x):\n",
    "    for i in range(1,len(x)):\n",
    "        key=x[i];\n",
    "        j=i;\n",
    "        while(key<x[j-1] and j>0):\n",
    "            x[j]=x[j-1]\n",
    "            j=j-1;\n",
    "        x[j]=key\n",
    "insertionsort(k)\n",
    "print(k)"
   ]
  },
  {
   "cell_type": "code",
   "execution_count": 19,
   "metadata": {},
   "outputs": [
    {
     "name": "stdout",
     "output_type": "stream",
     "text": [
      "17\n",
      "17\n",
      "4 15 22 31 33 34 42 64 77 85 92 446 672 678 766 6558 9232 "
     ]
    }
   ],
   "source": [
    "#mergesort algorithum\n",
    "# mergesort algorithum works on the principle of divide and conqueure stratigies\n",
    "# It is an algorithum of order of nlogn\n",
    "# a function to merge the two sub array\n",
    "# its space complexity is nlogn if no memory is deleted after using it\n",
    "# it space complexity reduce to n if memory is deleted during completion of recursive call\n",
    "\n",
    "def merge(l,r,a):\n",
    "    l1=len(l)\n",
    "    l2=len(r);\n",
    "    i,j,k=0,0,0;\n",
    "    while(i<l1 and j<l2):\n",
    "        if (l[i]<r[j]):\n",
    "            a[k]=l[i];\n",
    "            i+=1;\n",
    "        else:\n",
    "            a[k]=r[j]\n",
    "            j+=1;\n",
    "        k+=1;\n",
    "    while(i<l1):\n",
    "        a[k]=l[i];\n",
    "        i+=1\n",
    "        k+=1\n",
    "    while(j<l2):\n",
    "        a[k]=r[j];\n",
    "        j+=1\n",
    "        k+=1;\n",
    "\n",
    "def mergesort(x):\n",
    "    # base case is always written first\n",
    "    if len(x)==1:\n",
    "        return \n",
    "    mid=len(x)//2;\n",
    "    left=list();\n",
    "    right=list();\n",
    "    for i in range(0,mid):\n",
    "        left.append(x[i])\n",
    "    for i in range(mid,len(x)):\n",
    "        right.append(x[i])\n",
    "    mergesort(left)\n",
    "    mergesort(right)\n",
    "    merge(left,right,x)\n",
    "    \n",
    "k=[31,15,672,42,85,92,4,678,34,77,64,33,22,446,766,6558,9232]\n",
    "print(len(k))\n",
    "mergesort(k)\n",
    "print(len(k))\n",
    "for i in range(0,len(k)):\n",
    "    print(k[i],end=\" \")"
   ]
  },
  {
   "cell_type": "code",
   "execution_count": 6,
   "metadata": {},
   "outputs": [
    {
     "data": {
      "text/plain": [
       "11"
      ]
     },
     "execution_count": 6,
     "metadata": {},
     "output_type": "execute_result"
    }
   ],
   "source": [
    "45//4"
   ]
  },
  {
   "cell_type": "code",
   "execution_count": null,
   "metadata": {},
   "outputs": [],
   "source": []
  }
 ],
 "metadata": {
  "kernelspec": {
   "display_name": "Python 3",
   "language": "python",
   "name": "python3"
  },
  "language_info": {
   "codemirror_mode": {
    "name": "ipython",
    "version": 3
   },
   "file_extension": ".py",
   "mimetype": "text/x-python",
   "name": "python",
   "nbconvert_exporter": "python",
   "pygments_lexer": "ipython3",
   "version": "3.7.2"
  }
 },
 "nbformat": 4,
 "nbformat_minor": 2
}
