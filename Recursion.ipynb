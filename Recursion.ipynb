{
 "cells": [
  {
   "cell_type": "code",
   "execution_count": 5,
   "metadata": {},
   "outputs": [
    {
     "name": "stdout",
     "output_type": "stream",
     "text": [
      "Move a disk from 1 to 3\n",
      "Move a disk from 1 to 2\n",
      "Move a disk from 3 to 2\n",
      "Move a disk from 1 to 3\n",
      "Move a disk from 2 to 1\n",
      "Move a disk from 2 to 3\n",
      "Move a disk from 1 to 3\n"
     ]
    }
   ],
   "source": [
    "#Direct recursive: method that calls itself\n",
    "#Indirect recursive:Method that calls another method and \n",
    "# and eventually results in original method call\n",
    "# Every recursive method can be replaced by the iterative method\n",
    "# but the every iterative method can't be replaced by the \n",
    "#  recursive method.So according to need we use either recursive\n",
    "# or iterative method\n",
    "# Recursive consumes more memory space than that of the \n",
    "# iterative approach. But of for time efficient and the easy \n",
    "# logical implementation we use the recursive approach\n",
    "\n",
    "#-->Application of the recursion\n",
    "# Recursion is applied to problem which can be broken into \n",
    "# smaller parts,each part looking similar to original problem.\n",
    "# Recursion is used to implement the algorithums on trees.\n",
    "# Recursion is used in networking\n",
    "# Recursion is used in parsers and compilers\n",
    "# Recursion is also used to guarantee the correctness of an \n",
    "# algorithum.\n",
    "\n",
    "# Recursive method to solve Tower of hanio problem\n",
    "def TOH(n,a,b,c):# n is number of disk \n",
    "    if(n>=1):# a is begining stack of disks\n",
    "        TOH(n-1,a,c,b);# b is auxillary disks with the help of\n",
    "        #which disks from a is moved to c\n",
    "        print(\"Move a disk from {} to {}\".format(a,c));# c is destination\n",
    "        TOH(n-1,b,a,c);\n",
    "a=1;\n",
    "b=2;\n",
    "c=3;\n",
    "TOH(3,a,b,c)"
   ]
  },
  {
   "cell_type": "code",
   "execution_count": 22,
   "metadata": {},
   "outputs": [
    {
     "name": "stdout",
     "output_type": "stream",
     "text": [
      "5\n"
     ]
    }
   ],
   "source": [
    "# Time complexity and space complexity in  recursion\n",
    "# In case of factorail problem . Time complexity is O(n)\n",
    "# space complexity is also order of n. As number of function stacked in memory increses according to input size\n",
    "# Recursion is not always a good .\n",
    "# For example, in Fabbonacii series  same fuction is called many times \n",
    "# As we can see that from the recursion tree\n",
    "# space complexity of Fabonaccii series is big oh of order of n i.e the depth of recursion tree \n",
    "# Time complexity grows exponentially according to increase in input size.\n",
    "# This can be controlled using recursion with memonization\n",
    "# Factorial with recursion with memonization\n",
    "l1=list({0,1})\n",
    "\n",
    "def fabb(x):\n",
    "    if x<=1:\n",
    "        return x\n",
    "    elif x <=len(l1):# it is called memonization as it restrict from  recalling of same function more than one\n",
    "        return l1[x-1];# it redues the time complexicity significantly\n",
    "    else:\n",
    "        y=fabb(x-2)+fabb(x-1)\n",
    "        l1.append(y)\n",
    "        return y;\n",
    "print(fabb(5))\n"
   ]
  },
  {
   "cell_type": "code",
   "execution_count": 5,
   "metadata": {},
   "outputs": [
    {
     "name": "stdout",
     "output_type": "stream",
     "text": [
      "[1, 2, 32, 2, 43, 34]\n",
      "[1, 2, 32, 2, 43, 34, 44]\n"
     ]
    }
   ],
   "source": [
    "k=list({32,2,34,43});\n",
    "k=list({1,2})+k;\n",
    "print(k)# Here k is global variable\n",
    "def kd():\n",
    "    k.append(44)# if we use the assignement operator and try to change the value of k then that variable become local \n",
    "    print(k)# variable instead of global and it can be maked by using global keyword before any change inside the funtion\n",
    "kd()# similar case in insted function , nonlocal keyword can be used to take care of local varialble before the assingnment"
   ]
  },
  {
   "cell_type": "code",
   "execution_count": 8,
   "metadata": {},
   "outputs": [
    {
     "name": "stdout",
     "output_type": "stream",
     "text": [
      "125\n"
     ]
    }
   ],
   "source": [
    "# Calculate the power(x,n):x^n using recursion\n",
    "# 1st approach \n",
    "# not always the constructed  algorithum is the best algorithum  \n",
    "def power(x,n):\n",
    "    if n==0:\n",
    "        return 1;\n",
    "    elif(n%2==0):\n",
    "        y=power(x,n/2)\n",
    "        return y*y\n",
    "    else:\n",
    "        return x*power(x,n-1);\n",
    "y=power(5,3)\n",
    "print(y)\n"
   ]
  },
  {
   "cell_type": "code",
   "execution_count": 15,
   "metadata": {},
   "outputs": [
    {
     "name": "stdout",
     "output_type": "stream",
     "text": [
      "2025\n",
      "4294967296\n"
     ]
    }
   ],
   "source": [
    "# Another method to solve power method using recursion \n",
    "# in recursoin the problem is divided in small parts in self similar manner\n",
    "def power(x,n):\n",
    "    if n==0:\n",
    "        return 1;\n",
    "    else:\n",
    "        return x* power(x,n-1);\n",
    "y=power(45,2)\n",
    "print(y)\n",
    "\n",
    "print(2**32)"
   ]
  },
  {
   "cell_type": "code",
   "execution_count": 17,
   "metadata": {},
   "outputs": [
    {
     "data": {
      "text/plain": [
       "1"
      ]
     },
     "execution_count": 17,
     "metadata": {},
     "output_type": "execute_result"
    }
   ],
   "source": [
    "# Modular exponentiation: using recursion \n",
    "def mod(x,n,m):\n",
    "    if n==0:\n",
    "        return 1;\n",
    "    elif n%2==0:\n",
    "        y=mod(x,n/2,m);\n",
    "        return (y*y)%m\n",
    "    else:\n",
    "        return ((x%m)*mod(x,n-1,m))%m;\n",
    "mod(4,5,3)"
   ]
  },
  {
   "cell_type": "code",
   "execution_count": null,
   "metadata": {},
   "outputs": [],
   "source": []
  }
 ],
 "metadata": {
  "kernelspec": {
   "display_name": "Python 3",
   "language": "python",
   "name": "python3"
  },
  "language_info": {
   "codemirror_mode": {
    "name": "ipython",
    "version": 3
   },
   "file_extension": ".py",
   "mimetype": "text/x-python",
   "name": "python",
   "nbconvert_exporter": "python",
   "pygments_lexer": "ipython3",
   "version": "3.7.2"
  }
 },
 "nbformat": 4,
 "nbformat_minor": 2
}
