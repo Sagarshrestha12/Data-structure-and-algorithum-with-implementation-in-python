{
 "cells": [
  {
   "cell_type": "code",
   "execution_count": 5,
   "metadata": {},
   "outputs": [
    {
     "name": "stdout",
     "output_type": "stream",
     "text": [
      "Move a disk from 1 to 3\n",
      "Move a disk from 1 to 2\n",
      "Move a disk from 3 to 2\n",
      "Move a disk from 1 to 3\n",
      "Move a disk from 2 to 1\n",
      "Move a disk from 2 to 3\n",
      "Move a disk from 1 to 3\n"
     ]
    }
   ],
   "source": [
    "#Direct recursive: method that calls itself\n",
    "#Indirect recursive:Method that calls another method and \n",
    "# and eventually results in original method call\n",
    "# Every recursive method can be replaced by the iterative method\n",
    "# but the every iterative method can't be replaced by the \n",
    "#  recursive method.So according to need we use either recursive\n",
    "# or iterative method\n",
    "# Recursive consumes more memory space than that of the \n",
    "# iterative approach. But of for time efficient and the easy \n",
    "# logical implementation we use the recursive approach\n",
    "\n",
    "#-->Application of the recursion\n",
    "# Recursion is applied to problem which can be broken into \n",
    "# smaller parts,each part looking similar to original problem.\n",
    "# Recursion is used to implement the algorithums on trees.\n",
    "# Recursion is used in networking\n",
    "# Recursion is used in parsers and compilers\n",
    "# Recursion is also used to guarantee the correctness of an \n",
    "# algorithum.\n",
    "\n",
    "# Recursive method to solve Tower of hanio problem\n",
    "def TOH(n,a,b,c):# n is number of disk \n",
    "    if(n>=1):# a is begining stack of disks\n",
    "        TOH(n-1,a,c,b);# b is auxillary disks with the help of\n",
    "        #which disks from a is moved to c\n",
    "        print(\"Move a disk from {} to {}\".format(a,c));# c is destination\n",
    "        TOH(n-1,b,a,c);\n",
    "a=1;\n",
    "b=2;\n",
    "c=3;\n",
    "TOH(3,a,b,c)"
   ]
  },
  {
   "cell_type": "code",
   "execution_count": null,
   "metadata": {},
   "outputs": [],
   "source": []
  }
 ],
 "metadata": {
  "kernelspec": {
   "display_name": "Python 3",
   "language": "python",
   "name": "python3"
  },
  "language_info": {
   "codemirror_mode": {
    "name": "ipython",
    "version": 3
   },
   "file_extension": ".py",
   "mimetype": "text/x-python",
   "name": "python",
   "nbconvert_exporter": "python",
   "pygments_lexer": "ipython3",
   "version": "3.7.2"
  }
 },
 "nbformat": 4,
 "nbformat_minor": 2
}
