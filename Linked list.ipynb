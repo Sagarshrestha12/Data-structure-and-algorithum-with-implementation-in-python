{
 "cells": [
  {
   "cell_type": "code",
   "execution_count": null,
   "metadata": {},
   "outputs": [],
   "source": [
    "# When we want to work with unknown number of data values, we \n",
    "# use the linked list data structure to organize the data.\n",
    "#Linked list contains the sequence of the elts such that each \n",
    "# elts links to its next elts  in sequence. Each element in \n",
    "# linked list is called as \"Node\".\n",
    "\n",
    "#-->Single linked list:\n",
    "# Simply, a list is sequence of the data, and linked list is \n",
    "# seqeui\n"
   ]
  }
 ],
 "metadata": {
  "kernelspec": {
   "display_name": "Python 3",
   "language": "python",
   "name": "python3"
  },
  "language_info": {
   "codemirror_mode": {
    "name": "ipython",
    "version": 3
   },
   "file_extension": ".py",
   "mimetype": "text/x-python",
   "name": "python",
   "nbconvert_exporter": "python",
   "pygments_lexer": "ipython3",
   "version": "3.7.2"
  }
 },
 "nbformat": 4,
 "nbformat_minor": 2
}
