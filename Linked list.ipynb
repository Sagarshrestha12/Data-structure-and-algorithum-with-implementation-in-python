{
 "cells": [
  {
   "cell_type": "code",
   "execution_count": 5,
   "metadata": {},
   "outputs": [
    {
     "name": "stdout",
     "output_type": "stream",
     "text": [
      "Node is empty\n",
      "Created linked list is:\n",
      "9\n",
      "6\n",
      "23\n",
      "4\n",
      "43\n",
      "43\n",
      "4\n",
      "23\n",
      "6\n",
      "9\n"
     ]
    }
   ],
   "source": [
    "# When we want to work with unknown number of data values, we \n",
    "# use the linked list data structure to organize the data.\n",
    "#Linked list contains the sequence of the elts such that each \n",
    "# elts links to its next elts  in sequence. Each element in \n",
    "# linked list is called as \"Node\".\n",
    "\n",
    "#-->Single linked list:\n",
    "# Simply, a list is sequence of the data, and linked list is \n",
    "# seqeunce of data structure that contains sequence of elts \n",
    "# such that each elts links to its next elts in the sequence.\n",
    "# Each elts in linked list is called as \"Node\".\n",
    "# Sequence of the data linked with each other\n",
    "# Each elts in linked list(i.e Node) consists of two field,\n",
    "# data and next. The data field is used to store actual of \n",
    "# that node and next field is used to store the address of the\n",
    "# next node in sequence\n",
    "# In single linked list , the address of the first node is\n",
    "# always stored in refrence node known as \"Front\"(Sometimes,\n",
    "# it is also known as \"head\").\n",
    "# Always next field(refrence field) of the last node must \n",
    "# be null\n",
    "\n",
    "#--> Operation in linked list:\n",
    "#1. Insertion       2.Deletion\n",
    "# Insertion: In a single linked list,the insertion can be\n",
    "# done in three ways. Theys ar as follows...\n",
    "# a. Inserting at begining of th# list\n",
    "# b. Inserting at end of the list\n",
    "# c. Insertinf at specific location in the list\n",
    "class Node():\n",
    "    def __init__(self,x):\n",
    "        self.data=x;\n",
    "        self.next=None\n",
    "class Linked():\n",
    "    def __init__(self):\n",
    "        self.head=None;\n",
    "    def push(self,x):#where x is data that is appended at\n",
    "        y=Node(x);\n",
    "        if(self.head==None):# begining of linked list\n",
    "            print(\"Node is empty\")\n",
    "           # creating a new node\n",
    "            self.head=y\n",
    "        else:\n",
    "            y.next=self.head;\n",
    "            self.head=y;\n",
    " # This code works for all the other node except begining\n",
    "    def insat(self,y,n):# where n is position\n",
    "        x=Node(y);\n",
    "        if(self.head==None):# begining of linked list\n",
    "            print(\"Node is empty\")\n",
    "           # creating a new node\n",
    "            self.head=x\n",
    "        else:\n",
    "            temp=self.head\n",
    "            for i in range(0,n-2):\n",
    "                temp=temp.next\n",
    "                if(temp==None):\n",
    "                    print(\"Given position doesn't exist\");\n",
    "                    break;\n",
    "            x.next=temp.next;\n",
    "            temp.next=x;\n",
    "    def append(self,x):\n",
    "        # 1.create the new node\n",
    "        x=Node(x);\n",
    "        if(self.head==None):# begining of linked list\n",
    "            print(\"Node is empty\")\n",
    "            # creating a new node\n",
    "            self.head=x\n",
    "        else:   \n",
    "           \n",
    "            temp=self.head;# travesre of the linked list\n",
    "            while(temp.next):# if temp.next becomes None it get \n",
    "                # out of the loop\n",
    "                temp=temp.next\n",
    "            temp.next=x;\n",
    "    def printlist(self):\n",
    "        temp=self.head;\n",
    "        while(temp):# it is the traverse of the linked list\n",
    "            # for begining to ending\n",
    "            print(temp.data);\n",
    "            temp=temp.next;\n",
    "# Reversing of the linked list\n",
    "    def Rever(self):\n",
    "        current=self.head;\n",
    "        prev=None;\n",
    "        while current:\n",
    "            temp=current.next;\n",
    "            current.next=prev;\n",
    "            prev=current\n",
    "            current=temp;\n",
    "        self.head=prev\n",
    "            \n",
    "\n",
    "        \n",
    "\n",
    "if __name__=='__main__': \n",
    "  \n",
    "    # Start with the empty list \n",
    "    llist = Linked() \n",
    "  \n",
    "    # Insert 6.  So linked list becomes 6->None \n",
    "    llist.append(6) \n",
    "  \n",
    "    # Insert 7 at the beginning. So linked list becomes 7->6->None \n",
    "\n",
    "    # Insert 4 at the end. So linked list becomes 1->7->6->4->None \n",
    "    llist.append(4) \n",
    "  \n",
    "    # Insert 8, after 7. So linked list becomes 1 -> 7-> 8-> 6-> 4-> None \n",
    "    llist.append(43)\n",
    "    \n",
    "    llist.push(9)\n",
    "    llist.insat(23,3)# where 3 is position where elts to added\n",
    "    # 23 is data to be inserted\n",
    "    print(\"Created linked list is:\");\n",
    "    llist.printlist()\n",
    "    llist.Rever();\n",
    "    llist.printlist()"
   ]
  },
  {
   "cell_type": "code",
   "execution_count": 2,
   "metadata": {},
   "outputs": [
    {
     "name": "stdout",
     "output_type": "stream",
     "text": [
      "12\n",
      "3\n"
     ]
    }
   ],
   "source": [
    "# Important algorithun for traversal of the linked list\n",
    "if __name__ == '__main__':\n",
    "    n = int(input())\n",
    "    arr = map(int, input().split())"
   ]
  },
  {
   "cell_type": "code",
   "execution_count": 8,
   "metadata": {},
   "outputs": [
    {
     "name": "stdout",
     "output_type": "stream",
     "text": [
      "556\n",
      "98776\n"
     ]
    }
   ],
   "source": [
    "if __name__ == '__main__':\n",
    "    n = int(input())\n",
    "    arr = map(int, input().split())\n",
    "   \n",
    "    dir(arr)\n"
   ]
  },
  {
   "cell_type": "code",
   "execution_count": null,
   "metadata": {},
   "outputs": [],
   "source": []
  }
 ],
 "metadata": {
  "kernelspec": {
   "display_name": "Python 3",
   "language": "python",
   "name": "python3"
  },
  "language_info": {
   "codemirror_mode": {
    "name": "ipython",
    "version": 3
   },
   "file_extension": ".py",
   "mimetype": "text/x-python",
   "name": "python",
   "nbconvert_exporter": "python",
   "pygments_lexer": "ipython3",
   "version": "3.7.2"
  }
 },
 "nbformat": 4,
 "nbformat_minor": 2
}
