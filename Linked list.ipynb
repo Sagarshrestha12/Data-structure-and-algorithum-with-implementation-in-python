{
 "cells": [
  {
   "cell_type": "code",
   "execution_count": null,
   "metadata": {},
   "outputs": [],
   "source": [
    "# When we want to work with unknown number of data values, we \n",
    "# use the linked list data structure to organize the data.\n",
    "#Linked list contains the sequence of the elts such that each \n",
    "# elts links to its next elts  in sequence. Each element in \n",
    "# linked list is called as \"Node\".\n",
    "\n",
    "#-->Single linked list:\n",
    "# Simply, a list is sequence of the data, and linked list is \n",
    "# seqeunce of data structure that contains sequence of elts \n",
    "# such that each elts links to its next elts in the sequence.\n",
    "# Each elts in linked list is called as \"Node\".\n",
    "# Sequence of the data linked with each other\n",
    "# Each elts in linked list(i.e Node) consists of two field,\n",
    "# data and next. The data field is used to store actual of \n",
    "# that node and next field is used to store the address of the\n",
    "# next node in sequence\n",
    "# In single linked list , the address of the first node is\n",
    "# always stored in refrence node known as \"Front\"(Sometimes,\n",
    "# it is also known as \"head\").\n",
    "# Always next field(refrence field) of the last node must \n",
    "# be null\n",
    "\n",
    "#--> Operation in linked list:\n",
    "#1. Insertion       2.Deletion\n",
    "# Insertion: In a single linked list,the insertion can be\n",
    "# done in three ways. Theys ar as follows...\n",
    "# a. Inserting at begining of the list\n",
    "# b. Inserting at end of the list\n",
    "# c. Insertinf at specific location in the list\n"
   ]
  }
 ],
 "metadata": {
  "kernelspec": {
   "display_name": "Python 3",
   "language": "python",
   "name": "python3"
  },
  "language_info": {
   "codemirror_mode": {
    "name": "ipython",
    "version": 3
   },
   "file_extension": ".py",
   "mimetype": "text/x-python",
   "name": "python",
   "nbconvert_exporter": "python",
   "pygments_lexer": "ipython3",
   "version": "3.7.2"
  }
 },
 "nbformat": 4,
 "nbformat_minor": 2
}
