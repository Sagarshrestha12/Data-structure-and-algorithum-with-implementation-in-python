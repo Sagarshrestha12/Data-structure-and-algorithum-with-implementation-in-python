{
 "cells": [
  {
   "cell_type": "code",
   "execution_count": null,
   "metadata": {},
   "outputs": [],
   "source": [
    "# Queue is also the linear data structure in which operation are\n",
    "# performed in the in FIFO order.\n",
    "# In queue th insertion of the elements are done at the one end\n",
    "# (rear) and deletion are performed at other end(front)\n",
    "# Queue is same as real world queue.\n",
    "# Operation on queue:\n",
    "# Mainly the following four basic operations are performed on \n",
    "# queue: They are:\n",
    "# Enqueue:Add an item to the queue.If the queue is full,it is \n",
    "# said to be Overflow condition.\n",
    "# Dequeue:Removes the item from the queue\n",
    "# Front:\n",
    "# Rear:\n"
   ]
  }
 ],
 "metadata": {
  "kernelspec": {
   "display_name": "Python 3",
   "language": "python",
   "name": "python3"
  },
  "language_info": {
   "codemirror_mode": {
    "name": "ipython",
    "version": 3
   },
   "file_extension": ".py",
   "mimetype": "text/x-python",
   "name": "python",
   "nbconvert_exporter": "python",
   "pygments_lexer": "ipython3",
   "version": "3.7.2"
  }
 },
 "nbformat": 4,
 "nbformat_minor": 2
}
