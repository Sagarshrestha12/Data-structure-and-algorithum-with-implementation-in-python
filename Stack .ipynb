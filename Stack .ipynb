{
 "cells": [
  {
   "cell_type": "code",
   "execution_count": 37,
   "metadata": {},
   "outputs": [
    {
     "ename": "SyntaxError",
     "evalue": "invalid syntax (<ipython-input-37-cc2011e49540>, line 47)",
     "output_type": "error",
     "traceback": [
      "\u001b[1;36m  File \u001b[1;32m\"<ipython-input-37-cc2011e49540>\"\u001b[1;36m, line \u001b[1;32m47\u001b[0m\n\u001b[1;33m    print(x.pop()'-');\u001b[0m\n\u001b[1;37m                   ^\u001b[0m\n\u001b[1;31mSyntaxError\u001b[0m\u001b[1;31m:\u001b[0m invalid syntax\n"
     ]
    }
   ],
   "source": [
    "# List can also be used as an stack but there is no size limitation in list(only this property is not there in list)\n",
    "# Stack works in LIFO or FILO\n",
    "# Stack is linear non-primitive data structure\n",
    "# Stack push:The procedure of inserting a new elements to the \n",
    "# top of the stack is known as push operation\n",
    "# If the stack is already full, trying to push an element in the\n",
    "# full stack is called as Stack Overflow. \n",
    "# The procedure of removing an elements from the top is called \n",
    "# Stack Pop. \n",
    "# If the stack is empty ,trying to pop out an elements from the\n",
    "# stack is called Stack underflow.\n",
    "# Main stack operation :\n",
    "# push, pop ,size, peek(get the top elts of stack \n",
    "# without removing it),isfull,isempty(to check stack is full or\n",
    "# empty)\n",
    "import const\n",
    "class Stack:\n",
    "    #constructor\n",
    "    def __init__(self):\n",
    "        self.stack=list()\n",
    "        self.maxsize=8;\n",
    "        self.top=-1;\n",
    "    def push(self,data):\n",
    "        if self.top>=self.maxsize-1:\n",
    "             print(\"stack overflow\")   \n",
    "        else:\n",
    "            self.stack.append(data);\n",
    "            self.top +=1;\n",
    "    def pop(self):\n",
    "        if(self.top<0):\n",
    "            print(\"stack underflow\");\n",
    "        else:\n",
    "            item=self.stack.pop()\n",
    "            self.top +=1;\n",
    "            return item;\n",
    "    def isempty(self):\n",
    "        if(self.top==-1):\n",
    "            print(\"stack is empty\");\n",
    "    def size(self):\n",
    "        return self.top+1;\n",
    "    def isfull(self):\n",
    "        if(self.top==self.maxsize-1):\n",
    "            print(\"stack is full\");\n",
    "x=Stack();\n",
    "for y in range(0,8):\n",
    "    x.push(y)\n",
    "for y in range(7,-1,-1):\n",
    "    print(x.pop());"
   ]
  },
  {
   "cell_type": "code",
   "execution_count": 14,
   "metadata": {},
   "outputs": [
    {
     "name": "stdout",
     "output_type": "stream",
     "text": [
      "[1, 2, 3]\n",
      "['__add__', '__class__', '__contains__', '__delattr__', '__dir__', '__doc__', '__eq__', '__format__', '__ge__', '__getattribute__', '__getitem__', '__getnewargs__', '__gt__', '__hash__', '__init__', '__init_subclass__', '__iter__', '__le__', '__len__', '__lt__', '__mod__', '__mul__', '__ne__', '__new__', '__reduce__', '__reduce_ex__', '__repr__', '__rmod__', '__rmul__', '__setattr__', '__sizeof__', '__str__', '__subclasshook__', 'capitalize', 'casefold', 'center', 'count', 'encode', 'endswith', 'expandtabs', 'find', 'format', 'format_map', 'index', 'isalnum', 'isalpha', 'isascii', 'isdecimal', 'isdigit', 'isidentifier', 'islower', 'isnumeric', 'isprintable', 'isspace', 'istitle', 'isupper', 'join', 'ljust', 'lower', 'lstrip', 'maketrans', 'partition', 'replace', 'rfind', 'rindex', 'rjust', 'rpartition', 'rsplit', 'rstrip', 'split', 'splitlines', 'startswith', 'strip', 'swapcase', 'title', 'translate', 'upper', 'zfill']\n"
     ]
    }
   ],
   "source": [
    "x=list((1,2,3))# converting the tuple into list type using \n",
    "# tuple constructor\n",
    "print(x)\n",
    "print(dir(\"string\"))# since string has __iter__() so it is iterable which returns the iterator object of same type and\n",
    "# has the __next__() method to assign the other variable"
   ]
  },
  {
   "cell_type": "code",
   "execution_count": 30,
   "metadata": {},
   "outputs": [
    {
     "name": "stdout",
     "output_type": "stream",
     "text": [
      "{[]{()}} - Balanced\n",
      "((() - unbalanced\n"
     ]
    }
   ],
   "source": [
    "# Stack is also used to redo and undo operation in computer\n",
    "# Algorithum for balacing of symbols using stack:\n",
    "\n",
    "\n",
    "# Create the stack\n",
    "# while(end of the input is not reached):\n",
    "#   if(exp[i]=(,{,[ ):\n",
    "#      push(exp[i]) into the stack\n",
    "#   elif(exp[i]=),},]):\n",
    "#       if( s.empty || top of the stack is not pair with exp[i])\n",
    "#           return \"Symbol is not balanced\"\n",
    "#   else:\n",
    "#      pop() form the top of the stack\n",
    "\n",
    "# at last check wheather stack is empty or not:\n",
    "#   if stack is empty then parenthesis are balanced.\n",
    "#   else parenthesis are not balanced\n",
    "\n",
    "\n",
    "# code to check for the balanced algorithum:\n",
    "opng_par=['(','{','['];# opening paren-thesis\n",
    "clsg_par=[')','}',']'];# closing paren-thesis\n",
    "stack=[];#list can also be used as stack but there in size\n",
    "def check(msg):# To check wheather th msg is balanced or not\n",
    "    for i in msg:\n",
    "        if i in opng_par:\n",
    "            stack.append(i);\n",
    "        elif(i in clsg_par):\n",
    "            pos=clsg_par.index(i);\n",
    "            if((len(stack)>0) and (opng_par[pos]==stack[len(stack)-1])):# if the stack is not empty then size of the stack is always greater than 0\n",
    "                stack.pop();\n",
    "            else:\n",
    "                return \"unbalanced\";\n",
    "\n",
    "    if len(stack)==0:\n",
    "        return \"Balanced\"\n",
    "    if len(stack)>0:\n",
    "        return \"unbalanced\";\n",
    "    \n",
    "string = \"{[]{()}}\"\n",
    "print(string,\"-\", check(string)) \n",
    "  \n",
    "string = \"((()\"\n",
    "print(string,\"-\", check(string));\n"
   ]
  },
  {
   "cell_type": "code",
   "execution_count": 25,
   "metadata": {},
   "outputs": [
    {
     "ename": "TypeError",
     "evalue": "'list' object is not callable",
     "output_type": "error",
     "traceback": [
      "\u001b[1;31m---------------------------------------------------------------------------\u001b[0m",
      "\u001b[1;31mTypeError\u001b[0m                                 Traceback (most recent call last)",
      "\u001b[1;32m<ipython-input-25-8502aa72659e>\u001b[0m in \u001b[0;36m<module>\u001b[1;34m\u001b[0m\n\u001b[0;32m     32\u001b[0m     \u001b[1;32mreturn\u001b[0m \u001b[0mres\u001b[0m\u001b[1;33m;\u001b[0m\u001b[1;33m\u001b[0m\u001b[1;33m\u001b[0m\u001b[0m\n\u001b[0;32m     33\u001b[0m \u001b[0mexp\u001b[0m \u001b[1;33m=\u001b[0m \u001b[1;34m\"a+b*(c^d-e)^(f+g*h)-i\"\u001b[0m\u001b[1;33m;\u001b[0m\u001b[1;33m\u001b[0m\u001b[1;33m\u001b[0m\u001b[0m\n\u001b[1;32m---> 34\u001b[1;33m \u001b[0mx\u001b[0m\u001b[1;33m=\u001b[0m\u001b[0mpostconv\u001b[0m\u001b[1;33m(\u001b[0m\u001b[0mexp\u001b[0m\u001b[1;33m)\u001b[0m\u001b[1;33m\u001b[0m\u001b[1;33m\u001b[0m\u001b[0m\n\u001b[0m\u001b[0;32m     35\u001b[0m \u001b[0mprint\u001b[0m\u001b[1;33m(\u001b[0m\u001b[0mx\u001b[0m\u001b[1;33m)\u001b[0m\u001b[1;33m\u001b[0m\u001b[1;33m\u001b[0m\u001b[0m\n",
      "\u001b[1;32m<ipython-input-25-8502aa72659e>\u001b[0m in \u001b[0;36mpostconv\u001b[1;34m(msg)\u001b[0m\n\u001b[0;32m     17\u001b[0m         \u001b[1;32mif\u001b[0m\u001b[1;33m(\u001b[0m\u001b[0mx\u001b[0m \u001b[1;32min\u001b[0m \u001b[0mopt\u001b[0m\u001b[1;33m)\u001b[0m\u001b[1;33m:\u001b[0m\u001b[1;33m\u001b[0m\u001b[1;33m\u001b[0m\u001b[0m\n\u001b[0;32m     18\u001b[0m             while((len(stack)>0 & (not hasopeningparen(x)) & \n\u001b[1;32m---> 19\u001b[1;33m                    (not haspre(x,stack(len(stack)-1))))):\n\u001b[0m\u001b[0;32m     20\u001b[0m                 \u001b[0mres\u001b[0m\u001b[1;33m=\u001b[0m\u001b[0mres\u001b[0m\u001b[1;33m+\u001b[0m\u001b[0mstack\u001b[0m\u001b[1;33m.\u001b[0m\u001b[0mpop\u001b[0m\u001b[1;33m(\u001b[0m\u001b[1;33m)\u001b[0m\u001b[1;33m;\u001b[0m\u001b[1;33m\u001b[0m\u001b[1;33m\u001b[0m\u001b[0m\n\u001b[0;32m     21\u001b[0m                 \u001b[0mstack\u001b[0m\u001b[1;33m.\u001b[0m\u001b[0mpush\u001b[0m\u001b[1;33m(\u001b[0m\u001b[0mx\u001b[0m\u001b[1;33m)\u001b[0m\u001b[1;33m\u001b[0m\u001b[1;33m\u001b[0m\u001b[0m\n",
      "\u001b[1;31mTypeError\u001b[0m: 'list' object is not callable"
     ]
    }
   ],
   "source": [
    "# infix to postfix or prefix using the stack\n",
    "# empty string to store the  postfix result\n",
    "stack=[]# since list can also be used as the stack except it has the size limitation\n",
    "opr=[\"a\",\"b\",\"c\"]\n",
    "opt=[\"-\",\"+\",\"*\",\"/\",\"^\"]# lower to higher precedence\n",
    "def haspre(x,y):\n",
    "    if(opt.index(x)>opt.index(y)):\n",
    "        return True;\n",
    "def hasopeningparen(x):\n",
    "    if(x=='('):\n",
    "        return True;\n",
    "def postconv(msg):\n",
    "    res=\"\";\n",
    "    for x in msg:\n",
    "        if(x in opr):\n",
    "            res=res+x;\n",
    "        if(x in opt):\n",
    "            while((len(stack)>0 & (not hasopeningparen(x)) & \n",
    "                   (not haspre(x,stack(len(stack)-1))))):\n",
    "                res=res+stack.pop();\n",
    "                stack.push(x)\n",
    "                \n",
    "        if(x=='('):\n",
    "            stack.append(x);\n",
    "        if(x==')'):\n",
    "            while((len(stack)>0) & (not hasopeningparen(stack(len(stack)-1)))):\n",
    "                res=res+stack.pop();# pop remove as well\n",
    "                # return also\n",
    "    if((len(stack))>0):# i.e if the stack is not empty we have to \n",
    "    # remove it from the stack and append it to result\n",
    "        res=res+stack.pop();\n",
    "    return res;\n",
    "exp = \"a+b*(c^d-e)^(f+g*h)-i\";\n",
    "x=postconv(exp)\n",
    "print(x)\n"
   ]
  },
  {
   "cell_type": "code",
   "execution_count": 31,
   "metadata": {},
   "outputs": [
    {
     "name": "stdout",
     "output_type": "stream",
     "text": [
      "abcd^e-fgh*+^*+i-\n",
      "ade*i*+\n"
     ]
    }
   ],
   "source": [
    "# Python program to convert infix expression to postfix \n",
    "  \n",
    "# Class to convert the expression \n",
    "class Conversion: \n",
    "      \n",
    "    # Constructor to initialize the class variables \n",
    "    def __init__(self, capacity): \n",
    "        self.top = -1 \n",
    "        self.capacity = capacity \n",
    "        # This array is used a stack  \n",
    "        self.array = [] \n",
    "        # Precedence setting \n",
    "        self.output = [] \n",
    "        self.precedence = {'+':1, '-':1, '*':2, '/':2, '^':3} \n",
    "      \n",
    "    # check if the stack is empty \n",
    "    def isEmpty(self): \n",
    "        return True if self.top == -1 else False\n",
    "      \n",
    "    # Return the value of the top of the stack \n",
    "    def peek(self): \n",
    "        return self.array[-1] \n",
    "      \n",
    "    # Pop the element from the stack \n",
    "    def pop(self): \n",
    "        if not self.isEmpty(): \n",
    "            self.top -= 1\n",
    "            return self.array.pop() \n",
    "        else: \n",
    "            return \"$\"\n",
    "      \n",
    "    # Push the element to the stack \n",
    "    def push(self, op): \n",
    "        self.top += 1\n",
    "        self.array.append(op)  \n",
    "  \n",
    "    # A utility function to check is the given character \n",
    "    # is operand  \n",
    "    def isOperand(self, ch): \n",
    "        return ch.isalpha() \n",
    "  \n",
    "    # Check if the precedence of operator is strictly \n",
    "    # less than top of stack or not \n",
    "    def notGreater(self, i): \n",
    "        try: \n",
    "            a = self.precedence[i] \n",
    "            b = self.precedence[self.peek()] \n",
    "            return True if a  <= b else False\n",
    "        except KeyError:  \n",
    "            return False\n",
    "              \n",
    "    # The main function that converts given infix expression \n",
    "    # to postfix expression \n",
    "    def infixToPostfix(self, exp): \n",
    "          \n",
    "        # Iterate over the expression for conversion \n",
    "        for i in exp: \n",
    "            # If the character is an operand,  \n",
    "            # add it to output \n",
    "            if self.isOperand(i): \n",
    "                self.output.append(i) \n",
    "              \n",
    "            # If the character is an '(', push it to stack \n",
    "            elif i  == '(': \n",
    "                self.push(i) \n",
    "  \n",
    "            # If the scanned character is an ')', pop and  \n",
    "            # output from the stack until and '(' is found \n",
    "            elif i == ')': \n",
    "                while( (not self.isEmpty()) and self.peek() != '('): \n",
    "                    a = self.pop() \n",
    "                    self.output.append(a) \n",
    "                if (not self.isEmpty() and self.peek() != '('): \n",
    "                    return -1\n",
    "                else: \n",
    "                    self.pop() \n",
    "  \n",
    "            # An operator is encountered \n",
    "            else: \n",
    "                while(not self.isEmpty() and self.notGreater(i)): \n",
    "                    self.output.append(self.pop()) \n",
    "                self.push(i) \n",
    "  \n",
    "        # pop all the operator from the stack \n",
    "        while not self.isEmpty(): \n",
    "            self.output.append(self.pop()) \n",
    "  \n",
    "        print(\"\".join(self.output))# without the() it shows\n",
    "    # invalid syntax\n",
    "  \n",
    "# Driver program to test above function \n",
    "exp = \"a+b*(c^d-e)^(f+g*h)-i\"\n",
    "obj = Conversion(len(exp)) \n",
    "obj.infixToPostfix(exp) \n",
    "exp=\"a+d*e*i\"\n",
    "obj = Conversion(len(exp)) \n",
    "obj.infixToPostfix(exp) "
   ]
  },
  {
   "cell_type": "code",
   "execution_count": 12,
   "metadata": {},
   "outputs": [
    {
     "name": "stdout",
     "output_type": "stream",
     "text": [
      "kjdf\n"
     ]
    }
   ],
   "source": [
    "if 10 != 23:\n",
    "    print(\"kjdf\")"
   ]
  },
  {
   "cell_type": "code",
   "execution_count": null,
   "metadata": {},
   "outputs": [],
   "source": []
  }
 ],
 "metadata": {
  "kernelspec": {
   "display_name": "Python 3",
   "language": "python",
   "name": "python3"
  },
  "language_info": {
   "codemirror_mode": {
    "name": "ipython",
    "version": 3
   },
   "file_extension": ".py",
   "mimetype": "text/x-python",
   "name": "python",
   "nbconvert_exporter": "python",
   "pygments_lexer": "ipython3",
   "version": "3.7.2"
  }
 },
 "nbformat": 4,
 "nbformat_minor": 2
}
